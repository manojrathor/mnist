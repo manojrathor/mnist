{
  "nbformat": 4,
  "nbformat_minor": 0,
  "metadata": {
    "colab": {
      "name": "mnist_MLP_keras.ipynb",
      "version": "0.3.2",
      "provenance": [],
      "collapsed_sections": [],
      "include_colab_link": true
    },
    "kernelspec": {
      "name": "python3",
      "display_name": "Python 3"
    },
    "accelerator": "GPU"
  },
  "cells": [
    {
      "cell_type": "markdown",
      "metadata": {
        "id": "view-in-github",
        "colab_type": "text"
      },
      "source": [
        "<a href=\"https://colab.research.google.com/github/manojrathor/mnist/blob/master/mnist_MLP_keras.ipynb\" target=\"_parent\"><img src=\"https://colab.research.google.com/assets/colab-badge.svg\" alt=\"Open In Colab\"/></a>"
      ]
    },
    {
      "cell_type": "code",
      "metadata": {
        "id": "bYT2bmn47YKQ",
        "colab_type": "code",
        "colab": {}
      },
      "source": [
        "from google.colab import drive\n"
      ],
      "execution_count": 0,
      "outputs": []
    },
    {
      "cell_type": "code",
      "metadata": {
        "id": "-q0oOgqF-Ohl",
        "colab_type": "code",
        "outputId": "bc5b7fef-f7a5-4afd-d750-322cf4fc3da8",
        "colab": {
          "base_uri": "https://localhost:8080/",
          "height": 34
        }
      },
      "source": [
        "drive.mount('/content/gdrive')"
      ],
      "execution_count": 0,
      "outputs": [
        {
          "output_type": "stream",
          "text": [
            "Mounted at /content/gdrive\n"
          ],
          "name": "stdout"
        }
      ]
    },
    {
      "cell_type": "code",
      "metadata": {
        "id": "dIJ8vlOB-0WV",
        "colab_type": "code",
        "colab": {}
      },
      "source": [
        "# import libraries\n",
        "import keras\n",
        "from keras.datasets import mnist\n",
        "from keras.models import Sequential\n",
        "from keras.layers import Dense, Dropout, Flatten\n",
        "from keras.utils import to_categorical\n",
        "import matplotlib.pyplot as plt"
      ],
      "execution_count": 0,
      "outputs": []
    },
    {
      "cell_type": "code",
      "metadata": {
        "id": "9rnpj56I_KkK",
        "colab_type": "code",
        "colab": {}
      },
      "source": [
        "# load dataset\n",
        "(x_train,y_train),(x_test,y_test) = mnist.load_data()"
      ],
      "execution_count": 0,
      "outputs": []
    },
    {
      "cell_type": "code",
      "metadata": {
        "id": "M3uSZ0DNENBS",
        "colab_type": "code",
        "outputId": "41c22552-5fae-4679-a065-6da3675befd2",
        "colab": {
          "base_uri": "https://localhost:8080/",
          "height": 269
        }
      },
      "source": [
        "plt.imshow(x_train[8])\n",
        "plt.show()"
      ],
      "execution_count": 15,
      "outputs": [
        {
          "output_type": "display_data",
          "data": {
            "image/png": "[encoded data removed]",
            "text/plain": [
              "<Figure size 432x288 with 1 Axes>"
            ]
          },
          "metadata": {
            "tags": []
          }
        }
      ]
    },
    {
      "cell_type": "code",
      "metadata": {
        "id": "r_Uo9epu_Tw2",
        "colab_type": "code",
        "outputId": "b741a149-4e94-446c-c064-50f30a512fbb",
        "colab": {
          "base_uri": "https://localhost:8080/",
          "height": 34
        }
      },
      "source": [
        "# computer the shape of the train and test dataser\n",
        "x_train.shape, y_train.shape, x_test.shape,y_test.shape"
      ],
      "execution_count": 16,
      "outputs": [
        {
          "output_type": "execute_result",
          "data": {
            "text/plain": [
              "((60000, 28, 28), (60000,), (10000, 28, 28), (10000,))"
            ]
          },
          "metadata": {
            "tags": []
          },
          "execution_count": 16
        }
      ]
    },
    {
      "cell_type": "code",
      "metadata": {
        "id": "usdEBXOAEQw7",
        "colab_type": "code",
        "colab": {}
      },
      "source": [
        "x_train = x_train.reshape(x_train.shape[0],x_train.shape[1]*x_train.shape[2])\n",
        "x_test = x_test.reshape(x_test.shape[0],x_test.shape[1]*x_test.shape[2])\n",
        "y_train = to_categorical(y_train,10)\n",
        "y_test = to_categorical(y_test,10)"
      ],
      "execution_count": 0,
      "outputs": []
    },
    {
      "cell_type": "code",
      "metadata": {
        "id": "bgn_BfMkKnSt",
        "colab_type": "code",
        "colab": {}
      },
      "source": [
        "x_train = x_train/255.0\n",
        "x_test = x_test/255.0"
      ],
      "execution_count": 0,
      "outputs": []
    },
    {
      "cell_type": "code",
      "metadata": {
        "id": "enYHl5ILGPsK",
        "colab_type": "code",
        "outputId": "cb757102-1294-4bee-8ae8-a891d2a37d94",
        "colab": {
          "base_uri": "https://localhost:8080/",
          "height": 34
        }
      },
      "source": [
        "x_train.shape,y_train.shape,x_test.shape,y_test.shape"
      ],
      "execution_count": 19,
      "outputs": [
        {
          "output_type": "execute_result",
          "data": {
            "text/plain": [
              "((60000, 784), (60000, 10), (10000, 784), (10000, 10))"
            ]
          },
          "metadata": {
            "tags": []
          },
          "execution_count": 19
        }
      ]
    },
    {
      "cell_type": "code",
      "metadata": {
        "id": "sjyaA64XGXY5",
        "colab_type": "code",
        "colab": {}
      },
      "source": [
        "model = Sequential()\n",
        "model.add(Dense(64,activation = 'relu',input_shape = (784,)))\n",
        "model.add(Dense(10,activation = 'softmax'))"
      ],
      "execution_count": 0,
      "outputs": []
    },
    {
      "cell_type": "code",
      "metadata": {
        "id": "UKbl5xhBHlTG",
        "colab_type": "code",
        "colab": {}
      },
      "source": [
        "# Compile a model\n",
        "model.compile(optimizer = 'sgd',loss = 'categorical_crossentropy',metrics = ['accuracy'])"
      ],
      "execution_count": 0,
      "outputs": []
    },
    {
      "cell_type": "code",
      "metadata": {
        "id": "NAlwDID1IS1P",
        "colab_type": "code",
        "outputId": "fd822dc0-32c0-4851-c1fd-6ef0082b6a7b",
        "colab": {
          "base_uri": "https://localhost:8080/",
          "height": 1000
        }
      },
      "source": [
        "# fir the model to training data\n",
        "history = model.fit(x_train,y_train,validation_split = 0.2, epochs =50, batch_size = 64)"
      ],
      "execution_count": 23,
      "outputs": [
        {
          "output_type": "stream",
          "text": [
            "Train on 48000 samples, validate on 12000 samples\n",
            "Epoch 1/50\n",
            "48000/48000 [==============================] - 3s 62us/step - loss: 1.0122 - acc: 0.7480 - val_loss: 0.5117 - val_acc: 0.8768\n",
            "Epoch 2/50\n",
            "48000/48000 [==============================] - 3s 65us/step - loss: 0.4669 - acc: 0.8784 - val_loss: 0.3849 - val_acc: 0.9006\n",
            "Epoch 3/50\n",
            "48000/48000 [==============================] - 3s 66us/step - loss: 0.3858 - acc: 0.8957 - val_loss: 0.3409 - val_acc: 0.9083\n",
            "Epoch 4/50\n",
            "48000/48000 [==============================] - 3s 65us/step - loss: 0.3475 - acc: 0.9042 - val_loss: 0.3136 - val_acc: 0.9167\n",
            "Epoch 5/50\n",
            "48000/48000 [==============================] - 3s 65us/step - loss: 0.3228 - acc: 0.9102 - val_loss: 0.2957 - val_acc: 0.9194\n",
            "Epoch 6/50\n",
            "48000/48000 [==============================] - 3s 66us/step - loss: 0.3047 - acc: 0.9162 - val_loss: 0.2815 - val_acc: 0.9230\n",
            "Epoch 7/50\n",
            "48000/48000 [==============================] - 3s 65us/step - loss: 0.2902 - acc: 0.9193 - val_loss: 0.2698 - val_acc: 0.9255\n",
            "Epoch 8/50\n",
            "48000/48000 [==============================] - 3s 66us/step - loss: 0.2779 - acc: 0.9235 - val_loss: 0.2597 - val_acc: 0.9283\n",
            "Epoch 9/50\n",
            "48000/48000 [==============================] - 3s 65us/step - loss: 0.2669 - acc: 0.9259 - val_loss: 0.2516 - val_acc: 0.9303\n",
            "Epoch 10/50\n",
            "48000/48000 [==============================] - 3s 65us/step - loss: 0.2572 - acc: 0.9286 - val_loss: 0.2438 - val_acc: 0.9319\n",
            "Epoch 11/50\n",
            "48000/48000 [==============================] - 3s 65us/step - loss: 0.2485 - acc: 0.9313 - val_loss: 0.2363 - val_acc: 0.9342\n",
            "Epoch 12/50\n",
            "48000/48000 [==============================] - 3s 65us/step - loss: 0.2405 - acc: 0.9344 - val_loss: 0.2305 - val_acc: 0.9357\n",
            "Epoch 13/50\n",
            "48000/48000 [==============================] - 3s 66us/step - loss: 0.2332 - acc: 0.9360 - val_loss: 0.2246 - val_acc: 0.9373\n",
            "Epoch 14/50\n",
            "48000/48000 [==============================] - 3s 65us/step - loss: 0.2264 - acc: 0.9382 - val_loss: 0.2182 - val_acc: 0.9395\n",
            "Epoch 15/50\n",
            "48000/48000 [==============================] - 3s 65us/step - loss: 0.2202 - acc: 0.9398 - val_loss: 0.2130 - val_acc: 0.9423\n",
            "Epoch 16/50\n",
            "48000/48000 [==============================] - 3s 65us/step - loss: 0.2143 - acc: 0.9416 - val_loss: 0.2081 - val_acc: 0.9434\n",
            "Epoch 17/50\n",
            "48000/48000 [==============================] - 3s 66us/step - loss: 0.2087 - acc: 0.9430 - val_loss: 0.2048 - val_acc: 0.9432\n",
            "Epoch 18/50\n",
            "48000/48000 [==============================] - 3s 65us/step - loss: 0.2035 - acc: 0.9445 - val_loss: 0.1998 - val_acc: 0.9457\n",
            "Epoch 19/50\n",
            "48000/48000 [==============================] - 3s 66us/step - loss: 0.1986 - acc: 0.9455 - val_loss: 0.1969 - val_acc: 0.9458\n",
            "Epoch 20/50\n",
            "48000/48000 [==============================] - 3s 65us/step - loss: 0.1939 - acc: 0.9466 - val_loss: 0.1924 - val_acc: 0.9483\n",
            "Epoch 21/50\n",
            "48000/48000 [==============================] - 3s 65us/step - loss: 0.1894 - acc: 0.9481 - val_loss: 0.1897 - val_acc: 0.9494\n",
            "Epoch 22/50\n",
            "48000/48000 [==============================] - 3s 65us/step - loss: 0.1852 - acc: 0.9491 - val_loss: 0.1850 - val_acc: 0.9503\n",
            "Epoch 23/50\n",
            "48000/48000 [==============================] - 3s 66us/step - loss: 0.1812 - acc: 0.9501 - val_loss: 0.1826 - val_acc: 0.9507\n",
            "Epoch 24/50\n",
            "48000/48000 [==============================] - 3s 65us/step - loss: 0.1773 - acc: 0.9512 - val_loss: 0.1801 - val_acc: 0.9522\n",
            "Epoch 25/50\n",
            "48000/48000 [==============================] - 3s 65us/step - loss: 0.1738 - acc: 0.9522 - val_loss: 0.1766 - val_acc: 0.9529\n",
            "Epoch 26/50\n",
            "48000/48000 [==============================] - 3s 66us/step - loss: 0.1701 - acc: 0.9529 - val_loss: 0.1740 - val_acc: 0.9542\n",
            "Epoch 27/50\n",
            "48000/48000 [==============================] - 3s 68us/step - loss: 0.1669 - acc: 0.9541 - val_loss: 0.1716 - val_acc: 0.9535\n",
            "Epoch 28/50\n",
            "48000/48000 [==============================] - 3s 68us/step - loss: 0.1635 - acc: 0.9547 - val_loss: 0.1688 - val_acc: 0.9540\n",
            "Epoch 29/50\n",
            "48000/48000 [==============================] - 3s 66us/step - loss: 0.1604 - acc: 0.9554 - val_loss: 0.1662 - val_acc: 0.9553\n",
            "Epoch 30/50\n",
            "48000/48000 [==============================] - 3s 65us/step - loss: 0.1573 - acc: 0.9566 - val_loss: 0.1650 - val_acc: 0.9553\n",
            "Epoch 31/50\n",
            "48000/48000 [==============================] - 3s 66us/step - loss: 0.1545 - acc: 0.9572 - val_loss: 0.1623 - val_acc: 0.9552\n",
            "Epoch 32/50\n",
            "48000/48000 [==============================] - 3s 67us/step - loss: 0.1517 - acc: 0.9579 - val_loss: 0.1604 - val_acc: 0.9562\n",
            "Epoch 33/50\n",
            "48000/48000 [==============================] - 3s 69us/step - loss: 0.1490 - acc: 0.9587 - val_loss: 0.1587 - val_acc: 0.9563\n",
            "Epoch 34/50\n",
            "48000/48000 [==============================] - 3s 69us/step - loss: 0.1463 - acc: 0.9591 - val_loss: 0.1563 - val_acc: 0.9567\n",
            "Epoch 35/50\n",
            "48000/48000 [==============================] - 3s 68us/step - loss: 0.1437 - acc: 0.9603 - val_loss: 0.1550 - val_acc: 0.9571\n",
            "Epoch 36/50\n",
            "48000/48000 [==============================] - 3s 66us/step - loss: 0.1416 - acc: 0.9608 - val_loss: 0.1527 - val_acc: 0.9573\n",
            "Epoch 37/50\n",
            "48000/48000 [==============================] - 3s 65us/step - loss: 0.1391 - acc: 0.9617 - val_loss: 0.1513 - val_acc: 0.9582\n",
            "Epoch 38/50\n",
            "48000/48000 [==============================] - 3s 66us/step - loss: 0.1368 - acc: 0.9623 - val_loss: 0.1491 - val_acc: 0.9587\n",
            "Epoch 39/50\n",
            "48000/48000 [==============================] - 3s 65us/step - loss: 0.1345 - acc: 0.9633 - val_loss: 0.1482 - val_acc: 0.9589\n",
            "Epoch 40/50\n",
            "48000/48000 [==============================] - 3s 66us/step - loss: 0.1325 - acc: 0.9638 - val_loss: 0.1464 - val_acc: 0.9605\n",
            "Epoch 41/50\n",
            "48000/48000 [==============================] - 3s 65us/step - loss: 0.1304 - acc: 0.9643 - val_loss: 0.1446 - val_acc: 0.9602\n",
            "Epoch 42/50\n",
            "48000/48000 [==============================] - 3s 65us/step - loss: 0.1283 - acc: 0.9648 - val_loss: 0.1433 - val_acc: 0.9611\n",
            "Epoch 43/50\n",
            "48000/48000 [==============================] - 3s 66us/step - loss: 0.1264 - acc: 0.9656 - val_loss: 0.1422 - val_acc: 0.9605\n",
            "Epoch 44/50\n",
            "48000/48000 [==============================] - 3s 65us/step - loss: 0.1244 - acc: 0.9666 - val_loss: 0.1410 - val_acc: 0.9618\n",
            "Epoch 45/50\n",
            "48000/48000 [==============================] - 3s 65us/step - loss: 0.1228 - acc: 0.9667 - val_loss: 0.1397 - val_acc: 0.9616\n",
            "Epoch 46/50\n",
            "48000/48000 [==============================] - 3s 66us/step - loss: 0.1209 - acc: 0.9674 - val_loss: 0.1392 - val_acc: 0.9615\n",
            "Epoch 47/50\n",
            "48000/48000 [==============================] - 3s 66us/step - loss: 0.1192 - acc: 0.9675 - val_loss: 0.1375 - val_acc: 0.9620\n",
            "Epoch 48/50\n",
            "48000/48000 [==============================] - 3s 65us/step - loss: 0.1175 - acc: 0.9683 - val_loss: 0.1363 - val_acc: 0.9621\n",
            "Epoch 49/50\n",
            "48000/48000 [==============================] - 3s 65us/step - loss: 0.1159 - acc: 0.9683 - val_loss: 0.1353 - val_acc: 0.9626\n",
            "Epoch 50/50\n",
            "48000/48000 [==============================] - 3s 66us/step - loss: 0.1143 - acc: 0.9686 - val_loss: 0.1340 - val_acc: 0.9635\n"
          ],
          "name": "stdout"
        }
      ]
    },
    {
      "cell_type": "code",
      "metadata": {
        "id": "dUNV3TlZH6V0",
        "colab_type": "code",
        "colab": {
          "base_uri": "https://localhost:8080/",
          "height": 295
        },
        "outputId": "e394f535-446c-4d6c-a25d-f6b8f5f5d7e4"
      },
      "source": [
        "# plot of the model\n",
        "plt.plot(history.history['acc'])\n",
        "plt.plot(history.history['val_acc'])\n",
        "plt.title('accuracy plot')\n",
        "plt.xlabel('epochs')\n",
        "plt.ylabel('accuracy')\n",
        "plt.legend(['train','validation'],loc ='upper left')\n",
        "plt.show()"
      ],
      "execution_count": 24,
      "outputs": [
        {
          "output_type": "display_data",
          "data": {
            "image/png": "[encoded data removed]",
            "text/plain": [
              "<Figure size 432x288 with 1 Axes>"
            ]
          },
          "metadata": {
            "tags": []
          }
        }
      ]
    },
    {
      "cell_type": "code",
      "metadata": {
        "id": "C_fm5gf6IjxU",
        "colab_type": "code",
        "outputId": "d4e1a93e-0943-40f7-b8c3-d9b6b640d975",
        "colab": {
          "base_uri": "https://localhost:8080/",
          "height": 52
        }
      },
      "source": [
        "model.evaluate(x_test,y_test,batch_size = 128)"
      ],
      "execution_count": 25,
      "outputs": [
        {
          "output_type": "stream",
          "text": [
            "10000/10000 [==============================] - 0s 18us/step\n"
          ],
          "name": "stdout"
        },
        {
          "output_type": "execute_result",
          "data": {
            "text/plain": [
              "[0.13039505861997605, 0.961]"
            ]
          },
          "metadata": {
            "tags": []
          },
          "execution_count": 25
        }
      ]
    }
  ]
}