{
  "nbformat": 4,
  "nbformat_minor": 0,
  "metadata": {
    "colab": {
      "name": "mnist_MLP_keras.ipynb",
      "version": "0.3.2",
      "provenance": [],
      "collapsed_sections": [],
      "include_colab_link": true
    },
    "kernelspec": {
      "name": "python3",
      "display_name": "Python 3"
    },
    "accelerator": "GPU"
  },
  "cells": [
    {
      "cell_type": "markdown",
      "metadata": {
        "id": "view-in-github",
        "colab_type": "text"
      },
      "source": [
        "<a href=\"https://colab.research.google.com/github/manojrathor/mnist/blob/master/mnist_MLP_keras.ipynb\" target=\"_parent\"><img src=\"https://colab.research.google.com/assets/colab-badge.svg\" alt=\"Open In Colab\"/></a>"
      ]
    },
    {
      "cell_type": "code",
      "metadata": {
        "id": "bYT2bmn47YKQ",
        "colab_type": "code",
        "colab": {}
      },
      "source": [
        "from google.colab import drive\n"
      ],
      "execution_count": 0,
      "outputs": []
    },
    {
      "cell_type": "code",
      "metadata": {
        "id": "-q0oOgqF-Ohl",
        "colab_type": "code",
        "colab": {
          "base_uri": "https://localhost:8080/",
          "height": 34
        },
        "outputId": "bc5b7fef-f7a5-4afd-d750-322cf4fc3da8"
      },
      "source": [
        "drive.mount('/content/gdrive')"
      ],
      "execution_count": 5,
      "outputs": [
        {
          "output_type": "stream",
          "text": [
            "Mounted at /content/gdrive\n"
          ],
          "name": "stdout"
        }
      ]
    },
    {
      "cell_type": "code",
      "metadata": {
        "id": "dIJ8vlOB-0WV",
        "colab_type": "code",
        "colab": {}
      },
      "source": [
        "# import libraries\n",
        "import keras\n",
        "from keras.datasets import mnist\n",
        "from keras.models import Sequential\n",
        "from keras.layers import Dense, Dropout, Flatten\n",
        "from keras.utils import to_categorical\n",
        "import matplotlib.pyplot as plt"
      ],
      "execution_count": 0,
      "outputs": []
    },
    {
      "cell_type": "code",
      "metadata": {
        "id": "9rnpj56I_KkK",
        "colab_type": "code",
        "colab": {}
      },
      "source": [
        "# load dataset\n",
        "(x_train,y_train),(x_test,y_test) = mnist.load_data()"
      ],
      "execution_count": 0,
      "outputs": []
    },
    {
      "cell_type": "code",
      "metadata": {
        "id": "M3uSZ0DNENBS",
        "colab_type": "code",
        "colab": {
          "base_uri": "https://localhost:8080/",
          "height": 269
        },
        "outputId": "d3a98646-5056-4299-a4d8-ce912bb1b4c3"
      },
      "source": [
        "plt.imshow(x_train[8])\n",
        "plt.show()"
      ],
      "execution_count": 32,
      "outputs": [
        {
          "output_type": "display_data",
          "data": {
            "image/png": "[encoded data removed]",
            "text/plain": [
              "<Figure size 432x288 with 1 Axes>"
            ]
          },
          "metadata": {
            "tags": []
          }
        }
      ]
    },
    {
      "cell_type": "code",
      "metadata": {
        "id": "r_Uo9epu_Tw2",
        "colab_type": "code",
        "colab": {
          "base_uri": "https://localhost:8080/",
          "height": 34
        },
        "outputId": "9b02ef8e-801a-47ba-c979-ae3d5bf3fd5f"
      },
      "source": [
        "# computer the shape of the train and test dataser\n",
        "x_train.shape, y_train.shape, x_test.shape,y_test.shape"
      ],
      "execution_count": 33,
      "outputs": [
        {
          "output_type": "execute_result",
          "data": {
            "text/plain": [
              "((60000, 28, 28), (60000,), (10000, 28, 28), (10000,))"
            ]
          },
          "metadata": {
            "tags": []
          },
          "execution_count": 33
        }
      ]
    },
    {
      "cell_type": "code",
      "metadata": {
        "id": "usdEBXOAEQw7",
        "colab_type": "code",
        "colab": {}
      },
      "source": [
        "x_train = x_train.reshape(x_train.shape[0],x_train.shape[1]*x_train.shape[2])\n",
        "x_test = x_test.reshape(x_test.shape[0],x_test.shape[1]*x_test.shape[2])\n",
        "y_train = to_categorical(y_train,10)\n",
        "y_test = to_categorical(y_test,10)"
      ],
      "execution_count": 0,
      "outputs": []
    },
    {
      "cell_type": "code",
      "metadata": {
        "id": "bgn_BfMkKnSt",
        "colab_type": "code",
        "colab": {}
      },
      "source": [
        "x_train = x_train/255.0\n",
        "x_test = x_test/255.0"
      ],
      "execution_count": 0,
      "outputs": []
    },
    {
      "cell_type": "code",
      "metadata": {
        "id": "enYHl5ILGPsK",
        "colab_type": "code",
        "colab": {
          "base_uri": "https://localhost:8080/",
          "height": 34
        },
        "outputId": "a1d52fff-8e95-4d5b-e28d-d225f0813bd0"
      },
      "source": [
        "x_train.shape,y_train.shape,x_test.shape,y_test.shape"
      ],
      "execution_count": 36,
      "outputs": [
        {
          "output_type": "execute_result",
          "data": {
            "text/plain": [
              "((60000, 784), (60000, 10), (10000, 784), (10000, 10))"
            ]
          },
          "metadata": {
            "tags": []
          },
          "execution_count": 36
        }
      ]
    },
    {
      "cell_type": "code",
      "metadata": {
        "id": "sjyaA64XGXY5",
        "colab_type": "code",
        "colab": {}
      },
      "source": [
        "model = Sequential()\n",
        "model.add(Dense(64,activation = 'relu',input_shape = (784,)))\n",
        "model.add(Dense(10,activation = 'softmax'))"
      ],
      "execution_count": 0,
      "outputs": []
    },
    {
      "cell_type": "code",
      "metadata": {
        "id": "UKbl5xhBHlTG",
        "colab_type": "code",
        "colab": {}
      },
      "source": [
        "# Compile a model\n",
        "model.compile(optimizer = 'sgd',loss = 'categorical_crossentropy',metrics = ['accuracy'])"
      ],
      "execution_count": 0,
      "outputs": []
    },
    {
      "cell_type": "code",
      "metadata": {
        "id": "NAlwDID1IS1P",
        "colab_type": "code",
        "colab": {
          "base_uri": "https://localhost:8080/",
          "height": 1000
        },
        "outputId": "c8ea1ff2-0578-4e99-ef6f-309f9d1edf96"
      },
      "source": [
        "# fir the model to training data\n",
        "model.fit(x_train,y_train,validation_split = 0.2, epochs =50, batch_size = 64)"
      ],
      "execution_count": 39,
      "outputs": [
        {
          "output_type": "stream",
          "text": [
            "Train on 48000 samples, validate on 12000 samples\n",
            "Epoch 1/50\n",
            "48000/48000 [==============================] - 3s 67us/step - loss: 0.9840 - acc: 0.7576 - val_loss: 0.5148 - val_acc: 0.8719\n",
            "Epoch 2/50\n",
            "48000/48000 [==============================] - 3s 65us/step - loss: 0.4703 - acc: 0.8760 - val_loss: 0.3900 - val_acc: 0.8935\n",
            "Epoch 3/50\n",
            "48000/48000 [==============================] - 3s 65us/step - loss: 0.3905 - acc: 0.8915 - val_loss: 0.3447 - val_acc: 0.9032\n",
            "Epoch 4/50\n",
            "48000/48000 [==============================] - 3s 65us/step - loss: 0.3535 - acc: 0.8999 - val_loss: 0.3196 - val_acc: 0.9097\n",
            "Epoch 5/50\n",
            "48000/48000 [==============================] - 3s 65us/step - loss: 0.3300 - acc: 0.9062 - val_loss: 0.3019 - val_acc: 0.9153\n",
            "Epoch 6/50\n",
            "48000/48000 [==============================] - 3s 64us/step - loss: 0.3127 - acc: 0.9104 - val_loss: 0.2901 - val_acc: 0.9177\n",
            "Epoch 7/50\n",
            "48000/48000 [==============================] - 3s 65us/step - loss: 0.2987 - acc: 0.9150 - val_loss: 0.2783 - val_acc: 0.9212\n",
            "Epoch 8/50\n",
            "48000/48000 [==============================] - 3s 64us/step - loss: 0.2868 - acc: 0.9186 - val_loss: 0.2686 - val_acc: 0.9246\n",
            "Epoch 9/50\n",
            "48000/48000 [==============================] - 3s 65us/step - loss: 0.2762 - acc: 0.9219 - val_loss: 0.2598 - val_acc: 0.9264\n",
            "Epoch 10/50\n",
            "48000/48000 [==============================] - 3s 64us/step - loss: 0.2665 - acc: 0.9250 - val_loss: 0.2513 - val_acc: 0.9294\n",
            "Epoch 11/50\n",
            "48000/48000 [==============================] - 3s 64us/step - loss: 0.2577 - acc: 0.9273 - val_loss: 0.2449 - val_acc: 0.9301\n",
            "Epoch 12/50\n",
            "48000/48000 [==============================] - 3s 64us/step - loss: 0.2495 - acc: 0.9301 - val_loss: 0.2373 - val_acc: 0.9324\n",
            "Epoch 13/50\n",
            "48000/48000 [==============================] - 3s 64us/step - loss: 0.2418 - acc: 0.9320 - val_loss: 0.2309 - val_acc: 0.9350\n",
            "Epoch 14/50\n",
            "48000/48000 [==============================] - 3s 64us/step - loss: 0.2346 - acc: 0.9343 - val_loss: 0.2262 - val_acc: 0.9360\n",
            "Epoch 15/50\n",
            "48000/48000 [==============================] - 3s 64us/step - loss: 0.2277 - acc: 0.9364 - val_loss: 0.2194 - val_acc: 0.9387\n",
            "Epoch 16/50\n",
            "48000/48000 [==============================] - 3s 64us/step - loss: 0.2213 - acc: 0.9381 - val_loss: 0.2143 - val_acc: 0.9407\n",
            "Epoch 17/50\n",
            "48000/48000 [==============================] - 3s 64us/step - loss: 0.2151 - acc: 0.9400 - val_loss: 0.2090 - val_acc: 0.9413\n",
            "Epoch 18/50\n",
            "48000/48000 [==============================] - 3s 64us/step - loss: 0.2094 - acc: 0.9415 - val_loss: 0.2040 - val_acc: 0.9431\n",
            "Epoch 19/50\n",
            "48000/48000 [==============================] - 3s 65us/step - loss: 0.2039 - acc: 0.9430 - val_loss: 0.2009 - val_acc: 0.9443\n",
            "Epoch 20/50\n",
            "48000/48000 [==============================] - 3s 68us/step - loss: 0.1987 - acc: 0.9446 - val_loss: 0.1965 - val_acc: 0.9457\n",
            "Epoch 21/50\n",
            "48000/48000 [==============================] - 3s 65us/step - loss: 0.1938 - acc: 0.9464 - val_loss: 0.1919 - val_acc: 0.9475\n",
            "Epoch 22/50\n",
            "48000/48000 [==============================] - 3s 65us/step - loss: 0.1893 - acc: 0.9473 - val_loss: 0.1881 - val_acc: 0.9487\n",
            "Epoch 23/50\n",
            "48000/48000 [==============================] - 3s 64us/step - loss: 0.1850 - acc: 0.9483 - val_loss: 0.1851 - val_acc: 0.9499\n",
            "Epoch 24/50\n",
            "48000/48000 [==============================] - 3s 64us/step - loss: 0.1808 - acc: 0.9495 - val_loss: 0.1815 - val_acc: 0.9512\n",
            "Epoch 25/50\n",
            "48000/48000 [==============================] - 3s 64us/step - loss: 0.1768 - acc: 0.9505 - val_loss: 0.1790 - val_acc: 0.9505\n",
            "Epoch 26/50\n",
            "48000/48000 [==============================] - 3s 64us/step - loss: 0.1729 - acc: 0.9514 - val_loss: 0.1761 - val_acc: 0.9525\n",
            "Epoch 27/50\n",
            "48000/48000 [==============================] - 3s 65us/step - loss: 0.1695 - acc: 0.9525 - val_loss: 0.1726 - val_acc: 0.9523\n",
            "Epoch 28/50\n",
            "48000/48000 [==============================] - 3s 64us/step - loss: 0.1661 - acc: 0.9540 - val_loss: 0.1708 - val_acc: 0.9525\n",
            "Epoch 29/50\n",
            "48000/48000 [==============================] - 3s 64us/step - loss: 0.1628 - acc: 0.9548 - val_loss: 0.1675 - val_acc: 0.9542\n",
            "Epoch 30/50\n",
            "48000/48000 [==============================] - 3s 64us/step - loss: 0.1596 - acc: 0.9557 - val_loss: 0.1660 - val_acc: 0.9550\n",
            "Epoch 31/50\n",
            "48000/48000 [==============================] - 3s 63us/step - loss: 0.1566 - acc: 0.9566 - val_loss: 0.1641 - val_acc: 0.9552\n",
            "Epoch 32/50\n",
            "48000/48000 [==============================] - 3s 64us/step - loss: 0.1538 - acc: 0.9573 - val_loss: 0.1608 - val_acc: 0.9557\n",
            "Epoch 33/50\n",
            "48000/48000 [==============================] - 3s 64us/step - loss: 0.1509 - acc: 0.9584 - val_loss: 0.1597 - val_acc: 0.9559\n",
            "Epoch 34/50\n",
            "48000/48000 [==============================] - 3s 64us/step - loss: 0.1483 - acc: 0.9588 - val_loss: 0.1577 - val_acc: 0.9564\n",
            "Epoch 35/50\n",
            "48000/48000 [==============================] - 3s 64us/step - loss: 0.1456 - acc: 0.9600 - val_loss: 0.1551 - val_acc: 0.9570\n",
            "Epoch 36/50\n",
            "48000/48000 [==============================] - 3s 64us/step - loss: 0.1431 - acc: 0.9601 - val_loss: 0.1541 - val_acc: 0.9568\n",
            "Epoch 37/50\n",
            "48000/48000 [==============================] - 3s 64us/step - loss: 0.1407 - acc: 0.9608 - val_loss: 0.1516 - val_acc: 0.9577\n",
            "Epoch 38/50\n",
            "48000/48000 [==============================] - 3s 64us/step - loss: 0.1384 - acc: 0.9611 - val_loss: 0.1499 - val_acc: 0.9581\n",
            "Epoch 39/50\n",
            "48000/48000 [==============================] - 3s 64us/step - loss: 0.1362 - acc: 0.9621 - val_loss: 0.1486 - val_acc: 0.9592\n",
            "Epoch 40/50\n",
            "48000/48000 [==============================] - 3s 64us/step - loss: 0.1340 - acc: 0.9628 - val_loss: 0.1466 - val_acc: 0.9597\n",
            "Epoch 41/50\n",
            "48000/48000 [==============================] - 3s 65us/step - loss: 0.1318 - acc: 0.9631 - val_loss: 0.1459 - val_acc: 0.9596\n",
            "Epoch 42/50\n",
            "48000/48000 [==============================] - 3s 64us/step - loss: 0.1298 - acc: 0.9637 - val_loss: 0.1443 - val_acc: 0.9601\n",
            "Epoch 43/50\n",
            "48000/48000 [==============================] - 3s 65us/step - loss: 0.1278 - acc: 0.9645 - val_loss: 0.1431 - val_acc: 0.9607\n",
            "Epoch 44/50\n",
            "48000/48000 [==============================] - 3s 65us/step - loss: 0.1258 - acc: 0.9649 - val_loss: 0.1423 - val_acc: 0.9607\n",
            "Epoch 45/50\n",
            "48000/48000 [==============================] - 3s 65us/step - loss: 0.1242 - acc: 0.9652 - val_loss: 0.1395 - val_acc: 0.9604\n",
            "Epoch 46/50\n",
            "48000/48000 [==============================] - 3s 64us/step - loss: 0.1223 - acc: 0.9659 - val_loss: 0.1389 - val_acc: 0.9603\n",
            "Epoch 47/50\n",
            "48000/48000 [==============================] - 3s 68us/step - loss: 0.1205 - acc: 0.9660 - val_loss: 0.1372 - val_acc: 0.9615\n",
            "Epoch 48/50\n",
            "48000/48000 [==============================] - 3s 69us/step - loss: 0.1189 - acc: 0.9668 - val_loss: 0.1371 - val_acc: 0.9611\n",
            "Epoch 49/50\n",
            "48000/48000 [==============================] - 3s 69us/step - loss: 0.1172 - acc: 0.9669 - val_loss: 0.1355 - val_acc: 0.9623\n",
            "Epoch 50/50\n",
            "48000/48000 [==============================] - 3s 66us/step - loss: 0.1155 - acc: 0.9674 - val_loss: 0.1343 - val_acc: 0.9624\n"
          ],
          "name": "stdout"
        },
        {
          "output_type": "execute_result",
          "data": {
            "text/plain": [
              "<keras.callbacks.History at 0x7fbfe013feb8>"
            ]
          },
          "metadata": {
            "tags": []
          },
          "execution_count": 39
        }
      ]
    },
    {
      "cell_type": "code",
      "metadata": {
        "id": "C_fm5gf6IjxU",
        "colab_type": "code",
        "colab": {
          "base_uri": "https://localhost:8080/",
          "height": 52
        },
        "outputId": "c0be9e43-cf1b-4921-8844-6f1901895751"
      },
      "source": [
        "model.evaluate(x_test,y_test,batch_size = 128)"
      ],
      "execution_count": 40,
      "outputs": [
        {
          "output_type": "stream",
          "text": [
            "10000/10000 [==============================] - 0s 17us/step\n"
          ],
          "name": "stdout"
        },
        {
          "output_type": "execute_result",
          "data": {
            "text/plain": [
              "[0.13148493313789367, 0.9617]"
            ]
          },
          "metadata": {
            "tags": []
          },
          "execution_count": 40
        }
      ]
    },
    {
      "cell_type": "code",
      "metadata": {
        "id": "dUNV3TlZH6V0",
        "colab_type": "code",
        "colab": {}
      },
      "source": [
        ""
      ],
      "execution_count": 0,
      "outputs": []
    }
  ]
}